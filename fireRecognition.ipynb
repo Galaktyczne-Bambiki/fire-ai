{
 "cells": [
  {
   "cell_type": "code",
   "execution_count": 2,
   "metadata": {},
   "outputs": [],
   "source": [
    "# %load_ext autoreload\n",
    "# %autoreload 2\n",
    "import cv2\n",
    "from pytorch_model_summary import summary\n",
    "import matplotlib.pyplot as plt\n",
    "import seaborn as sns\n",
    "import numpy as np\n",
    "import torch.nn as nn\n",
    "from cnn import CnnNet\n",
    "from FireRecognitionDataset import FireRecognitionDataset\n",
    "from sklearn.metrics import confusion_matrix\n",
    "import torch\n",
    "\n",
    "# %config InlineBackend.figure_format = 'svg'"
   ]
  },
  {
   "cell_type": "code",
   "execution_count": 8,
   "metadata": {},
   "outputs": [
    {
     "name": "stdout",
     "output_type": "stream",
     "text": [
      "['fire_images', 'non_fire_images']\n"
     ]
    }
   ],
   "source": [
    "dataset = FireRecognitionDataset()\n",
    "criterion = nn.NLLLoss()\n"
   ]
  },
  {
   "cell_type": "code",
   "execution_count": 9,
   "metadata": {},
   "outputs": [
    {
     "name": "stdout",
     "output_type": "stream",
     "text": [
      "layer size: 2\n",
      "output size: 59\n"
     ]
    }
   ],
   "source": [
    "net = CnnNet(224, 2,  c_kernels=[7, 5, 5, 5, 3, 3], in_channels=[\n",
    "    3, 32, 64, 128, 256, 256], out_channels=[32, 64, 128, 256, 256, 256], padding_flag=True,\n",
    "    maxpool_freq=2, fc_size=3)\n",
    "lr = 0.0001\n",
    "optimizer = torch.optim.AdamW(net.parameters(), lr=lr)\n",
    "loss_test = []"
   ]
  },
  {
   "cell_type": "code",
   "execution_count": 10,
   "metadata": {},
   "outputs": [
    {
     "name": "stdout",
     "output_type": "stream",
     "text": [
      "GPU is available\n"
     ]
    }
   ],
   "source": [
    "if torch.cuda.is_available():\n",
    "    net = net.cuda()\n",
    "    net.cnn = net.cnn.cuda()\n",
    "    print(\"GPU is available\")\n",
    "else:\n",
    "    torch.device(\"cpu\")\n",
    "    print(\"GPU not available, CPU used\")\n"
   ]
  },
  {
   "cell_type": "code",
   "execution_count": 6,
   "metadata": {},
   "outputs": [],
   "source": [
    "def test(dataset, model, criterion):\n",
    "    total = 0.\n",
    "    predicted = 0.\n",
    "    loss_test = 0.\n",
    "    y_true = []\n",
    "    y_pred = []\n",
    "\n",
    "    with torch.no_grad():\n",
    "        for data, labels in dataset.testloader:\n",
    "            labels = labels.cuda()\n",
    "            data = data.cuda()\n",
    "            out = model(data)\n",
    "            predicted_output = torch.argmax(out, dim=1)\n",
    "\n",
    "            y_true = np.append(y_true, labels.cpu().detach().numpy(), 0)\n",
    "            y_pred = np.append(y_pred, predicted_output.cpu().detach().numpy(), 0)\n",
    "            total += labels.shape[0]\n",
    "            predicted += torch.sum(predicted_output == labels).cpu().item()\n",
    "\n",
    "            loss = criterion(out, labels)\n",
    "            loss_test += loss.cpu().item()\n",
    "    cf = confusion_matrix(y_true, y_pred)\n",
    "    return (predicted/total*100), loss_test, cf\n"
   ]
  },
  {
   "cell_type": "code",
   "execution_count": 13,
   "metadata": {},
   "outputs": [
    {
     "name": "stdout",
     "output_type": "stream",
     "text": [
      "acc: 95.31 %\n",
      "Learning rate: 0.0001000000\n",
      "Epoch: 0............. Loss: 0.1427\n",
      "acc: 98.44 %\n",
      "Learning rate: 0.0001000000\n",
      "Epoch: 1............. Loss: 0.0001\n",
      "acc: 100.00 %\n",
      "Learning rate: 0.0001000000\n",
      "Epoch: 2............. Loss: 0.3805\n",
      "acc: 98.44 %\n",
      "Learning rate: 0.0001000000\n",
      "Epoch: 3............. Loss: 0.0000\n",
      "acc: 95.31 %\n",
      "Learning rate: 0.0001000000\n",
      "Epoch: 4............. Loss: 0.0000\n"
     ]
    }
   ],
   "source": [
    "old_loss = 0\n",
    "loss_training = []\n",
    "for e in range(5):\n",
    "    loss_temp = 0\n",
    "    # pass through all data\n",
    "    for data, exp in dataset.trainloader:\n",
    "        exp = exp.cuda()\n",
    "        # pass data to cuda\n",
    "        data = data.cuda()\n",
    "        # clear gradient from previous epoch\n",
    "        optimizer.zero_grad()\n",
    "        out = net(data)\n",
    "        loss = criterion(out, exp)\n",
    "        loss.backward()\n",
    "        loss_temp += loss.item()\n",
    "        optimizer.step()\n",
    "\n",
    "    loss_training.append(loss_temp)\n",
    "    acc, loss_test, mat = test(dataset, net, criterion)\n",
    "    old_loss = loss_training[-1]\n",
    "\n",
    "    # ax= plt.subplot()\n",
    "    # sns.heatmap(mat, annot=True, fmt='g', ax=ax);  #annot=True to annotate cells, ftm='g' to disable scientific notation\n",
    "\n",
    "    # ax.set_xlabel('Predicted labels');ax.set_ylabel('True labels');\n",
    "    # ax.set_title('Confusion Matrix');\n",
    "    # ax.xaxis.set_ticklabels(['1', '2']); ax.yaxis.set_ticklabels(['1', '2']);\n",
    "    # plt.show()\n",
    "\n",
    "    temp_lr: float = optimizer.param_groups[0]['lr']\n",
    "    print(\"acc: {:.2f} %\".format(acc))\n",
    "    print(\"Learning rate: {:.10f}\".format(temp_lr))\n",
    "    print(\"Epoch: {}.............\".format(e), end=\" \")\n",
    "    print(\"Loss: {:.4f}\".format(loss))\n",
    "    # if acc > 80.0:\n",
    "    #     break\n",
    "\n",
    "torch.save(net.state_dict(), \"fire_recognition\")\n"
   ]
  },
  {
   "cell_type": "code",
   "execution_count": 43,
   "metadata": {},
   "outputs": [
    {
     "name": "stdout",
     "output_type": "stream",
     "text": [
      "layer size: 2\n",
      "output size: 59\n"
     ]
    }
   ],
   "source": [
    "model = CnnNet(224, 2,  c_kernels=[7, 5, 5, 5, 3, 3], in_channels=[\n",
    "    3, 32, 64, 128, 256, 256], out_channels=[32, 64, 128, 256, 256, 256], padding_flag=True,\n",
    "    maxpool_freq=2, fc_size=3)\n",
    "model.load_state_dict(torch.load(\"fire_recognition\"))\n",
    "model.eval()\n",
    "\n",
    "classes = [\"fire_images\", \"non_fire_images\"]"
   ]
  },
  {
   "cell_type": "code",
   "execution_count": 44,
   "metadata": {},
   "outputs": [
    {
     "name": "stdout",
     "output_type": "stream",
     "text": [
      "GPU is available\n"
     ]
    }
   ],
   "source": [
    "if torch.cuda.is_available():\n",
    "    model = model.cuda()\n",
    "    model.cnn = model.cnn.cuda()\n",
    "    print(\"GPU is available\")\n",
    "else:\n",
    "    torch.device(\"cpu\")\n",
    "    print(\"GPU not available, CPU used\")\n"
   ]
  },
  {
   "cell_type": "code",
   "execution_count": 48,
   "metadata": {},
   "outputs": [
    {
     "data": {
      "image/png": "[encoded data removed]",
      "text/plain": [
       "<Figure size 640x480 with 2 Axes>"
      ]
     },
     "metadata": {},
     "output_type": "display_data"
    }
   ],
   "source": [
    "acc, loss_test, mat = test(dataset, model, criterion)\n",
    "\n",
    "ax = plt.subplot()\n",
    "sns.heatmap(mat, annot=True, fmt='g', ax=ax)  # annot=True to annotate cells, ftm='g' to disable scientific notation\n",
    "\n",
    "ax.set_xlabel('Predicted labels')\n",
    "ax.set_ylabel('True labels')\n",
    "ax.set_title('Confusion Matrix')\n",
    "ax.xaxis.set_ticklabels([\"fire_images\", \"non_fire_images\"])\n",
    "ax.yaxis.set_ticklabels([\"fire_images\", \"non_fire_images\"])\n",
    "plt.show()\n"
   ]
  },
  {
   "cell_type": "code",
   "execution_count": 14,
   "metadata": {},
   "outputs": [
    {
     "name": "stdout",
     "output_type": "stream",
     "text": [
      "torch.Size([1, 3, 224, 224])\n",
      "fire_images\n"
     ]
    }
   ],
   "source": [
    "img = cv2.imread('./fire.13.png')\n",
    "img = np.moveaxis(img, -1, 0)\n",
    "img = torch.from_numpy(img).unsqueeze(0).float()\n",
    "print(img.shape)\n",
    "\n",
    "with torch.no_grad():\n",
    "    img = img.cuda()\n",
    "    out = model(img)\n",
    "    predicted_output = torch.argmax(out, dim=1)\n",
    "\n",
    "print(classes[predicted_output])\n"
   ]
  },
  {
   "cell_type": "code",
   "execution_count": 22,
   "metadata": {},
   "outputs": [],
   "source": [
    "import torch.onnx\n",
    "\n",
    "x = torch.randn(1, 3, 224, 224, requires_grad=False)\n",
    "x = x.cuda()\n",
    "torch.onnx.export(model, x, \"fire_recognition.onnx\", export_params=True, do_constant_folding=True, input_names=['input'],\n",
    "                  output_names=['output'], dynamic_axes={'input': {0: 'batch_size'}, 'output': {0: 'batch_size'}})\n"
   ]
  },
  {
   "cell_type": "code",
   "execution_count": 23,
   "metadata": {},
   "outputs": [],
   "source": [
    "import onnx\n",
    "\n",
    "onnx_model = onnx.load(\"fire_recognition.onnx\")\n",
    "onnx.checker.check_model(onnx_model)\n"
   ]
  },
  {
   "cell_type": "code",
   "execution_count": 62,
   "metadata": {},
   "outputs": [],
   "source": [
    "import onnxruntime\n",
    "\n",
    "ort_session = onnxruntime.InferenceSession(\"fire_recognition.onnx\", providers=[\"CPUExecutionProvider\"])\n",
    "\n",
    "\n",
    "def to_numpy(tensor):\n",
    "    return tensor.detach().cpu().numpy() if tensor.requires_grad else tensor.cpu().numpy()\n",
    "\n",
    "\n",
    "# compute ONNX Runtime output prediction\n",
    "ort_inputs = {ort_session.get_inputs()[0].name: to_numpy(x)}\n",
    "ort_outs = ort_session.run(None, ort_inputs)\n",
    "\n",
    "# compare ONNX Runtime and PyTorch results\n",
    "# np.testing.assert_allclose(to_numpy(torch_out), ort_outs[0], rtol=1e-03, atol=1e-05)\n"
   ]
  },
  {
   "cell_type": "code",
   "execution_count": 64,
   "metadata": {},
   "outputs": [
    {
     "name": "stdout",
     "output_type": "stream",
     "text": [
      "(1, 3, 224, 224)\n",
      "1\n",
      "non_fire_images\n"
     ]
    }
   ],
   "source": [
    "img = cv2.imread('./non_fire.29.png')\n",
    "img = np.moveaxis(img, -1, 0)\n",
    "img = torch.from_numpy(img).unsqueeze(0).float().numpy()\n",
    "print(img.shape)\n",
    "ort_inputs = {ort_session.get_inputs()[0].name: img}\n",
    "ort_outs = ort_session.run(None, ort_inputs)\n",
    "memory_usage = psutil.virtual_memory()\n",
    "img_out_y = ort_outs[0]\n",
    "predicted_output = np.argmax(img_out_y[0])\n",
    "print(predicted_output)\n",
    "print(classes[predicted_output])\n"
   ]
  }
 ],
 "metadata": {
  "kernelspec": {
   "display_name": "base",
   "language": "python",
   "name": "python3"
  },
  "language_info": {
   "codemirror_mode": {
    "name": "ipython",
    "version": 3
   },
   "file_extension": ".py",
   "mimetype": "text/x-python",
   "name": "python",
   "nbconvert_exporter": "python",
   "pygments_lexer": "ipython3",
   "version": "3.8.12"
  }
 },
 "nbformat": 4,
 "nbformat_minor": 2
}
